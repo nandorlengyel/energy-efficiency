{
 "cells": [
  {
   "cell_type": "markdown",
   "metadata": {},
   "source": [
    "# Modelling"
   ]
  },
  {
   "cell_type": "markdown",
   "metadata": {},
   "source": [
    "Five different supervised learning classification models are assessed to understand how well they could predict energy efficiency. Linear regression is selected as the baseline and the variance score (R2) as the quality measure used to assess the models. The other four algorithms are random forest, ada boost, XGBoost and a neural network.\n",
    "\n",
    "This script prepares the data for modelling and can be used to run random forest, ada boost and XGBoost."
   ]
  },
  {
   "cell_type": "code",
   "execution_count": 2,
   "metadata": {},
   "outputs": [],
   "source": [
    "import numpy as np\n",
    "import pandas as pd\n",
    "import datetime\n",
    "import os\n",
    "import glob\n",
    "import json\n",
    "import matplotlib.pyplot as plt\n",
    "import seaborn as sns\n",
    "from sklearn.model_selection import train_test_split\n",
    "import xgboost as xgb\n",
    "from sklearn.ensemble import AdaBoostRegressor\n",
    "from sklearn.metrics import mean_squared_error, r2_score\n",
    "from sklearn.model_selection import GridSearchCV, RandomizedSearchCV"
   ]
  },
  {
   "cell_type": "code",
   "execution_count": 5,
   "metadata": {},
   "outputs": [],
   "source": [
    "# set variables from config file\n",
    "config_path = os.path.abspath('..')\n",
    "\n",
    "with open(config_path + '/config.json', 'r') as f:\n",
    "    config = json.load(f)\n",
    "\n",
    "processing_path = config['DEFAULT']['processing_path']\n",
    "epc_train_ex_fname = config['DEFAULT']['epc_train_ex_fname']\n",
    "epc_test_ex_fname = config['DEFAULT']['epc_test_ex_fname']\n",
    "epc_train_do_fname = config['DEFAULT']['epc_train_domain_fname']\n",
    "epc_test_do_fname = config['DEFAULT']['epc_test_domain_fname']\n",
    "epc_train_dd_fname = config['DEFAULT']['epc_train_dd_fname']\n",
    "epc_test_dd_fname = config['DEFAULT']['epc_test_dd_fname']\n",
    "# urban_rural_fname = config['DEFAULT']['urban_rural_fname']"
   ]
  },
  {
   "cell_type": "code",
   "execution_count": 6,
   "metadata": {},
   "outputs": [],
   "source": [
    "epc_train_ex = pd.read_csv(os.path.join(processing_path,epc_train_ex_fname),header = 0,delimiter = ',')\n",
    "epc_test_ex = pd.read_csv(os.path.join(processing_path,epc_test_ex_fname),header = 0,delimiter = ',')\n",
    "epc_train_do = pd.read_csv(os.path.join(processing_path,epc_train_do_fname),header = 0,delimiter = ',')\n",
    "epc_test_do = pd.read_csv(os.path.join(processing_path,epc_test_do_fname),header = 0,delimiter = ',')\n",
    "epc_train_dd = pd.read_csv(os.path.join(processing_path,epc_train_dd_fname),header = 0,delimiter = ',')\n",
    "epc_test_dd = pd.read_csv(os.path.join(processing_path,epc_test_dd_fname),header = 0,delimiter = ',')"
   ]
  },
  {
   "cell_type": "code",
   "execution_count": 7,
   "metadata": {},
   "outputs": [
    {
     "data": {
      "text/plain": [
       "Text(0.5, 0, 'epc_test_data_driven')"
      ]
     },
     "execution_count": 7,
     "metadata": {},
     "output_type": "execute_result"
    },
    {
     "data": {
      "image/png": "[encoded data removed]",
      "text/plain": [
       "<Figure size 1440x360 with 6 Axes>"
      ]
     },
     "metadata": {
      "needs_background": "light"
     },
     "output_type": "display_data"
    }
   ],
   "source": [
    "# plot distribution for each feature set\n",
    "plt.figure(figsize=(20,5))\n",
    "\n",
    "plt.subplot(231)\n",
    "epc_train_ex['CURRENT_ENERGY_EFFICIENCY'].hist()\n",
    "plt.xlabel('epc_train_exhaustive',fontsize=16, weight='bold')\n",
    "\n",
    "plt.subplot(232)\n",
    "epc_train_do['CURRENT_ENERGY_EFFICIENCY'].hist()\n",
    "plt.xlabel('epc_train_domain',fontsize=16, weight='bold')\n",
    "\n",
    "plt.subplot(233)\n",
    "epc_train_do['CURRENT_ENERGY_EFFICIENCY'].hist()\n",
    "plt.xlabel('epc_train_data_driven',fontsize=16, weight='bold')\n",
    "\n",
    "plt.subplot(234)\n",
    "epc_test_ex['CURRENT_ENERGY_EFFICIENCY'].hist()\n",
    "plt.xlabel('epc_test_exhaustive',fontsize=16, weight='bold')\n",
    "\n",
    "plt.subplot(235)\n",
    "epc_test_do['CURRENT_ENERGY_EFFICIENCY'].hist()\n",
    "plt.xlabel('epc_test_domain',fontsize=16, weight='bold')\n",
    "\n",
    "plt.subplot(236)\n",
    "epc_test_do['CURRENT_ENERGY_EFFICIENCY'].hist()\n",
    "plt.xlabel('epc_test_data_driven',fontsize=16, weight='bold')"
   ]
  },
  {
   "cell_type": "markdown",
   "metadata": {},
   "source": [
    "### process data for selected feature set"
   ]
  },
  {
   "cell_type": "code",
   "execution_count": 9,
   "metadata": {},
   "outputs": [],
   "source": [
    "def process_data_for_modelling(training_data,test_data):\n",
    "    \n",
    "    ''' \n",
    "    Prepares the data for modelling by one hot encoding the categorical features, converting discrete values into\n",
    "    strings and dropping BUILDING_REFERENCE_NUMBER\n",
    "    Parameters\n",
    "      training_data: a dataframe of training data with columns called LODGEMENT_DATE, BUILDING_REFERENCE_NUMBER\n",
    "      test_data: a dataframe of test data with columns called LODGEMENT_DATE, BUILDING_REFERENCE_NUMBER\n",
    "    Returns two dataframes \n",
    "    '''\n",
    "    \n",
    "    training_data['mode'] = 'train'\n",
    "    test_data['mode'] = 'test'\n",
    "    epc = pd.concat([training_data, test_data])\n",
    "    epc = epc.reset_index(drop = True)\n",
    "    \n",
    "    try:\n",
    "        epc.drop(['LODGEMENT_DATE'],axis=1,inplace=True)\n",
    "    except:\n",
    "        pass\n",
    "    \n",
    "    try:\n",
    "        epc['EXTENSION_COUNT'] = epc['EXTENSION_COUNT'].astype('str')\n",
    "        epc['NUMBER_OPEN_FIREPLACES'] = epc['NUMBER_OPEN_FIREPLACES'].astype('str')\n",
    "    except:\n",
    "        pass\n",
    "    \n",
    "    for col in epc.dtypes[epc.dtypes == 'object'].index:\n",
    "        if col not in ['mode']:\n",
    "            print(col)\n",
    "            for_dummy = epc.pop(col)\n",
    "            epc = pd.concat([epc, pd.get_dummies(for_dummy, prefix=col)], axis=1)\n",
    "        \n",
    "    features_to_drop = ['BUILDING_REFERENCE_NUMBER']\n",
    "    epc.drop(features_to_drop,axis=1,inplace=True)\n",
    "    \n",
    "    #Split back into train and test\n",
    "    training_data = epc[epc['mode']=='train']\n",
    "    test_data = epc[epc['mode']=='test']\n",
    "    test_data = test_data.reset_index(drop=True)\n",
    "    inputs_train = training_data.drop('mode',axis=1)\n",
    "    inputs_test = test_data.drop('mode',axis=1)\n",
    "    \n",
    "    return inputs_train, inputs_test"
   ]
  },
  {
   "cell_type": "code",
   "execution_count": 10,
   "metadata": {},
   "outputs": [
    {
     "name": "stdout",
     "output_type": "stream",
     "text": [
      "LMK_KEY\n",
      "ADDRESS1\n",
      "ADDRESS2\n",
      "ADDRESS3\n",
      "POSTCODE\n",
      "CURRENT_ENERGY_RATING\n",
      "POTENTIAL_ENERGY_RATING\n",
      "PROPERTY_TYPE\n",
      "BUILT_FORM\n",
      "INSPECTION_DATE\n",
      "LOCAL_AUTHORITY\n",
      "CONSTITUENCY\n",
      "TRANSACTION_TYPE\n",
      "ENERGY_TARIFF\n",
      "MAINS_GAS_FLAG\n",
      "GLAZED_TYPE\n",
      "GLAZED_AREA\n",
      "EXTENSION_COUNT\n",
      "NUMBER_OPEN_FIREPLACES\n",
      "HOTWATER_DESCRIPTION\n",
      "HOT_WATER_ENERGY_EFF\n",
      "HOT_WATER_ENV_EFF\n",
      "FLOOR_DESCRIPTION\n",
      "WINDOWS_DESCRIPTION\n",
      "WINDOWS_ENERGY_EFF\n",
      "WINDOWS_ENV_EFF\n",
      "WALLS_DESCRIPTION\n",
      "WALLS_ENERGY_EFF\n",
      "WALLS_ENV_EFF\n",
      "ROOF_DESCRIPTION\n",
      "ROOF_ENERGY_EFF\n",
      "ROOF_ENV_EFF\n",
      "MAINHEAT_DESCRIPTION\n",
      "MAINHEAT_ENERGY_EFF\n",
      "MAINHEAT_ENV_EFF\n",
      "MAINHEATCONT_DESCRIPTION\n",
      "MAINHEATC_ENERGY_EFF\n",
      "MAINHEATC_ENV_EFF\n",
      "LIGHTING_ENERGY_EFF\n",
      "LIGHTING_ENV_EFF\n",
      "MAIN_FUEL\n",
      "MECHANICAL_VENTILATION\n",
      "ADDRESS\n",
      "LOCAL_AUTHORITY_LABEL\n",
      "CONSTITUENCY_LABEL\n",
      "POSTTOWN\n",
      "CONSTRUCTION_AGE_BAND\n",
      "LODGEMENT_DATETIME\n",
      "TENURE\n",
      "UPRN_SOURCE\n",
      "region\n",
      "SECONDHEAT_DESCRIPTION\n",
      "LIGHTING_DESCRIPTION\n"
     ]
    }
   ],
   "source": [
    "inputs_train, inputs_test = process_data_for_modelling(epc_train_ex, epc_test_ex)"
   ]
  },
  {
   "cell_type": "code",
   "execution_count": 11,
   "metadata": {},
   "outputs": [],
   "source": [
    "from sklearn.preprocessing import MinMaxScaler\n",
    "scaler = MinMaxScaler(feature_range=(0, 1))"
   ]
  },
  {
   "cell_type": "code",
   "execution_count": 12,
   "metadata": {},
   "outputs": [],
   "source": [
    "def scale_numeric(df,col):\n",
    "    \n",
    "    ''' \n",
    "    Fits a scaler called scaler to the specified column\n",
    "    Parameters\n",
    "      df: a dataframe\n",
    "      col: numeric variable to scale\n",
    "    Returns a dataframe\n",
    "    '''\n",
    "    \n",
    "    null_index = df[col].isnull()\n",
    "    df.loc[~null_index, [col]] = scaler.fit_transform(df.loc[~null_index, [col]])\n",
    "    \n",
    "    return df"
   ]
  },
  {
   "cell_type": "code",
   "execution_count": 13,
   "metadata": {},
   "outputs": [],
   "source": [
    "inputs_train = scale_numeric(inputs_train,'TOTAL_FLOOR_AREA')\n",
    "inputs_test = scale_numeric(inputs_test,'TOTAL_FLOOR_AREA')\n",
    "try:\n",
    "    inputs_train = scale_numeric(inputs_train,'FLOOR_HEIGHT')\n",
    "    inputs_test = scale_numeric(inputs_test,'FLOOR_HEIGHT')\n",
    "except:\n",
    "    pass\n",
    "try:\n",
    "    inputs_train = scale_numeric(inputs_train,'NUMBER_HABITABLE_ROOMS')\n",
    "    inputs_test = scale_numeric(inputs_test,'NUMBER_HABITABLE_ROOMS')\n",
    "except:\n",
    "    pass"
   ]
  },
  {
   "cell_type": "markdown",
   "metadata": {},
   "source": [
    "### check missing values"
   ]
  },
  {
   "cell_type": "code",
   "execution_count": 14,
   "metadata": {},
   "outputs": [],
   "source": [
    "numeric_cols = inputs_train.dtypes[inputs_train.dtypes == 'float'].index"
   ]
  },
  {
   "cell_type": "code",
   "execution_count": 15,
   "metadata": {},
   "outputs": [
    {
     "data": {
      "text/plain": [
       "FLOOR_LEVEL                             1.000000\n",
       "LOW_ENERGY_FIXED_LIGHT_COUNT            1.000000\n",
       "MAIN_HEATING_CONTROLS                   1.000000\n",
       "HEAT_LOSS_CORRIDOR                      1.000000\n",
       "walls_average_thermal_transmittance     0.874749\n",
       "floors_average_thermal_transmittance    0.874749\n",
       "roof_average_thermal_transmittance      0.874749\n",
       "low_energy_lighting_perc                0.589178\n",
       "PHOTO_SUPPLY                            0.141283\n",
       "NUMBER_HABITABLE_ROOMS                  0.125251\n",
       "NUMBER_HEATED_ROOMS                     0.125251\n",
       "UPRN                                    0.075150\n",
       "MULTI_GLAZE_PROPORTION                  0.000000\n",
       "FLOOR_HEIGHT                            0.000000\n",
       "TOTAL_FLOOR_AREA                        0.000000\n",
       "CO2_EMISSIONS_POTENTIAL                 0.000000\n",
       "CO2_EMISS_CURR_PER_FLOOR_AREA           0.000000\n",
       "CO2_EMISSIONS_CURRENT                   0.000000\n",
       "ENERGY_CONSUMPTION_CURRENT              0.000000\n",
       "dtype: float64"
      ]
     },
     "execution_count": 15,
     "metadata": {},
     "output_type": "execute_result"
    }
   ],
   "source": [
    "inputs_train[numeric_cols].isnull().sum().sort_values(ascending = False) / inputs_train.shape[0]"
   ]
  },
  {
   "cell_type": "code",
   "execution_count": 16,
   "metadata": {},
   "outputs": [],
   "source": [
    "inputs_train['FLOOR_HEIGHT'] = inputs_train['FLOOR_HEIGHT'].fillna(inputs_train['FLOOR_HEIGHT'].mean())\n",
    "inputs_train['NUMBER_HABITABLE_ROOMS'] = inputs_train['NUMBER_HABITABLE_ROOMS'].fillna(inputs_train['NUMBER_HABITABLE_ROOMS'].mean())\n",
    "inputs_test['FLOOR_HEIGHT'] = inputs_test['FLOOR_HEIGHT'].fillna(inputs_test['FLOOR_HEIGHT'].mean())\n",
    "inputs_test['NUMBER_HABITABLE_ROOMS'] = inputs_test['NUMBER_HABITABLE_ROOMS'].fillna(inputs_test['NUMBER_HABITABLE_ROOMS'].mean())"
   ]
  },
  {
   "cell_type": "markdown",
   "metadata": {},
   "source": [
    "### Create input dataframes"
   ]
  },
  {
   "cell_type": "code",
   "execution_count": 17,
   "metadata": {},
   "outputs": [],
   "source": [
    "target_train = inputs_train['CURRENT_ENERGY_EFFICIENCY']\n",
    "inputs_train = inputs_train.drop('CURRENT_ENERGY_EFFICIENCY',axis=1)\n",
    "target_test = inputs_test['CURRENT_ENERGY_EFFICIENCY']\n",
    "inputs_test = inputs_test.drop('CURRENT_ENERGY_EFFICIENCY',axis=1)"
   ]
  },
  {
   "cell_type": "markdown",
   "metadata": {},
   "source": [
    "### train the model"
   ]
  },
  {
   "cell_type": "code",
   "execution_count": 18,
   "metadata": {},
   "outputs": [],
   "source": [
    "def train_model(inputs_train, target_train, inputs_test, target_test, model=['adaboost','GBT','forest','xgboost']):\n",
    "    \n",
    "    ''' \n",
    "    Fits one of four models, Adaboost, Gradient Boosted Trees, Random Forest or XGBoost, evaluates the \n",
    "    performance and finds the feature importance\n",
    "    Parameters\n",
    "      inputs_train: a dataframe of training data\n",
    "      target_train: a series of the target for training\n",
    "      input__test: a dataframe of test data must have the same columns as inputs_train\n",
    "      target_test: a series of the target for testing\n",
    "      model: ['adaboost','GBT','forest','xgboost']\n",
    "    '''\n",
    "    \n",
    "    if model == 'adaboost':\n",
    "        reg = AdaBoostRegressor(random_state = 1234)\n",
    "        reg.fit(inputs_train,target_train)\n",
    "    elif model == 'GBT':\n",
    "        reg = GradientBoostingRegressor(random_state = 1234)\n",
    "        reg.fit(inputs_train,target_train)\n",
    "    elif model == 'forest':\n",
    "        reg = RandomForestRegressor(n_jobs = -1, random_state = 1234)\n",
    "        reg.fit(inputs_train,target_train)\n",
    "    else:\n",
    "        i_train = inputs_train.values\n",
    "        t_train = target_train.values.ravel()\n",
    "        i_test = inputs_test.values\n",
    "        t_test = target_test.values.ravel()\n",
    "        reg = xgb.XGBRegressor(seed = 1234)\n",
    "        reg.fit(i_train,t_train)\n",
    "    if model in ['adaboost','GBT','forest']:\n",
    "        print('Train results')\n",
    "        evaluate_model(reg, inputs_train, target_train)\n",
    "        print('Test results')\n",
    "        evaluate_model(reg, inputs_test, target_test)     \n",
    "    else:\n",
    "        print('Train results')\n",
    "        evaluate_model(reg, i_train, t_train)\n",
    "        print('Test results')\n",
    "        evaluate_model(reg, i_test, t_test)\n",
    "    print('Feature Importance')\n",
    "    feature_importance(reg, inputs_train)"
   ]
  },
  {
   "cell_type": "code",
   "execution_count": 19,
   "metadata": {},
   "outputs": [],
   "source": [
    "def evaluate_model(model, inputs, target):\n",
    "    \n",
    "    ''' \n",
    "    Computes the r squared and mean squared error scores and prints the results\n",
    "    Parameters\n",
    "      model: initiated model\n",
    "      inputs: a dataframe of training or test data\n",
    "      target: a series of the target variable\n",
    "    '''\n",
    "    \n",
    "    predict_values = model.predict(inputs)\n",
    "    r_squared = r2_score(target,predict_values)\n",
    "    mse = mean_squared_error(target,predict_values)\n",
    "    print('Variance score: %.4f' % r_squared)\n",
    "    print(\"Mean squared error: %.4f\" % mse)"
   ]
  },
  {
   "cell_type": "code",
   "execution_count": 20,
   "metadata": {},
   "outputs": [],
   "source": [
    "def feature_importance(model, inputs):\n",
    "    \n",
    "    ''' \n",
    "    Finds the feature importance of the model and prints the results in an ordered list with the column names\n",
    "    Parameters\n",
    "      model: initiated model\n",
    "      inputs: a dataframe of training or test data\n",
    "    '''\n",
    "    \n",
    "    feature_importance = model.feature_importances_\n",
    "    feature_importance = pd.DataFrame(feature_importance,columns = ['feature_importance'])\n",
    "    feature_names = inputs.columns.values\n",
    "    feature_names = pd.DataFrame(feature_names,columns = ['feature_name'])\n",
    "    feature_importance = pd.merge(feature_names,\n",
    "                                  feature_importance,\n",
    "                                  left_index = True,\n",
    "                                  right_index = True,\n",
    "                                  how = 'inner')\n",
    "    feature_importance.sort_values('feature_importance',\n",
    "                                   ascending = False,\n",
    "                                   inplace = True)\n",
    "    print(feature_importance)"
   ]
  },
  {
   "cell_type": "code",
   "execution_count": 21,
   "metadata": {},
   "outputs": [
    {
     "name": "stdout",
     "output_type": "stream",
     "text": [
      "[13:54:53] WARNING: /workspace/src/objective/regression_obj.cu:152: reg:linear is now deprecated in favor of reg:squarederror.\n",
      "Train results\n",
      "Variance score: 0.9921\n",
      "Mean squared error: 1.1890\n",
      "Test results\n",
      "Variance score: 0.9921\n",
      "Mean squared error: 1.1890\n",
      "Feature Importance\n",
      "                                     feature_name  feature_importance\n",
      "1                      ENVIRONMENT_IMPACT_CURRENT            0.251095\n",
      "6                   CO2_EMISS_CURR_PER_FLOOR_AREA            0.173418\n",
      "3392                      CURRENT_ENERGY_RATING_F            0.088001\n",
      "3393                      CURRENT_ENERGY_RATING_G            0.068638\n",
      "3390                      CURRENT_ENERGY_RATING_D            0.067676\n",
      "...                                           ...                 ...\n",
      "2559                             POSTCODE_CH3 5TN            0.000000\n",
      "2558                             POSTCODE_CH1 5DQ            0.000000\n",
      "2557                             POSTCODE_CH1 4LB            0.000000\n",
      "2556                            POSTCODE_CF64 5WH            0.000000\n",
      "7659  LIGHTING_DESCRIPTION_no low energy lighting            0.000000\n",
      "\n",
      "[7660 rows x 2 columns]\n"
     ]
    }
   ],
   "source": [
    "train_model(inputs_train, target_train, inputs_test, target_test, 'xgboost')"
   ]
  },
  {
   "cell_type": "markdown",
   "metadata": {},
   "source": [
    "### Tune the model"
   ]
  },
  {
   "cell_type": "code",
   "execution_count": 17,
   "metadata": {},
   "outputs": [],
   "source": [
    "learning_rate_set = [0.1,0.2,0.3,0.4] #Learning rate\n",
    "n_estimators_set = [150,200,250]  #Number of trees\n",
    "max_depth_set = [3,4,5] #Depth of tree"
   ]
  },
  {
   "cell_type": "code",
   "execution_count": 27,
   "metadata": {},
   "outputs": [],
   "source": [
    "# sample of datasets to speed up training\n",
    "inputs_train_sample = inputs_train.iloc[:50000,:]\n",
    "target_train_sample = target_train.iloc[:50000]"
   ]
  },
  {
   "cell_type": "code",
   "execution_count": 28,
   "metadata": {},
   "outputs": [],
   "source": [
    "def tune_model(inputs_train, target_train, inputs_test, target_test, model=['adaboost','GBT','forest','xgboost'],\n",
    "              learning_rate_set, n_estimators_set, max_depth_set):\n",
    "    \n",
    "    ''' \n",
    "    Fits one of four models, Adaboost, Gradient Boosted Trees, Random Forest or XGBoost, tunes using the \n",
    "    specified parameter sets. Note this takes a long time to run and the compuation time will increase with\n",
    "    the number of parameters\n",
    "    Parameters\n",
    "      inputs_train: a dataframe of training data\n",
    "      target_train: a series of the target for training\n",
    "      input__test: a dataframe of test data must have the same columns as inputs_train\n",
    "      target_test: a series of the target for testing\n",
    "      model: ['adaboost','GBT','forest','xgboost']\n",
    "      learning_rate_set: set of learning rates to test\n",
    "      n_estimators_set: set of number of trees to test\n",
    "      max_depth_set: set of max tree depths to test\n",
    "    '''\n",
    "    \n",
    "    if model == 'adaboost':\n",
    "        reg = AdaBoostRegressor(random_state = 1234)\n",
    "    elif model == 'GBT':\n",
    "        reg = GradientBoostingRegressor(random_state = 1234)\n",
    "    elif model == 'forest':\n",
    "        reg = RandomForestRegressor(n_jobs = -1, random_state = 1234)\n",
    "    else:\n",
    "        i_train = inputs_train.values\n",
    "        t_train = target_train.values.ravel()\n",
    "        i_test = inputs_test.values\n",
    "        t_test = target_test.values.ravel()\n",
    "        reg = xgb.XGBRegressor(seed = 1234)\n",
    "        \n",
    "    parameters = {'learning_rate':learning_rate_set, 'n_estimators':n_estimators_set, 'max_depth':max_depth_set}\n",
    "    reg_tuned = GridSearchCV(reg, parameters)\n",
    "    reg_tuned.fit(inputs_train, target_train)\n",
    "        \n",
    "    if model in ['adaboost','GBT','forest']:\n",
    "        reg_tuned.fit(inputs_train, target_train)    \n",
    "    else:\n",
    "        reg_tuned.fit(i_train, t_train)\n",
    "    \n",
    "    print(reg_tuned.best_params_)\n",
    "    print(reg_tuned.best_score_)"
   ]
  },
  {
   "cell_type": "code",
   "execution_count": 29,
   "metadata": {},
   "outputs": [
    {
     "name": "stdout",
     "output_type": "stream",
     "text": [
      "{'learning_rate': 0.2, 'max_depth': 5, 'n_estimators': 250}\n",
      "0.7974033303658646\n"
     ]
    }
   ],
   "source": [
    "train_model(inputs_train_sample, target_train_sample, inputs_test, target_test, 'xgboost')"
   ]
  },
  {
   "cell_type": "markdown",
   "metadata": {},
   "source": [
    "## Results by band"
   ]
  },
  {
   "cell_type": "code",
   "execution_count": null,
   "metadata": {},
   "outputs": [],
   "source": [
    "predict_test_series = pd.Series(predict_test)\n",
    "test_scored = pd.DataFrame(target_test)\n",
    "test_scored = test_scored.reset_index(drop=True)\n",
    "test_scored['predicted_score'] = predict_test_series"
   ]
  },
  {
   "cell_type": "code",
   "execution_count": null,
   "metadata": {},
   "outputs": [],
   "source": [
    "band_bins = [-1,0,20,38,54,68,80,91,100]\n",
    "band_labels = ['I','G','F','E','D','C','B','A']\n",
    "test_scored['predicted_band'] = pd.cut(test_scored['predicted_score'],bins = band_bins, labels = band_labels)\n",
    "test_scored['actual_band'] = pd.cut(test_scored['CURRENT_ENERGY_EFFICIENCY'],bins = band_bins, labels = band_labels)"
   ]
  },
  {
   "cell_type": "code",
   "execution_count": null,
   "metadata": {},
   "outputs": [],
   "source": [
    "# average accuracy per band\n",
    "(test_scored['actual_band'] == test_scored['predicted_band']).sum()/len(test_scored)"
   ]
  },
  {
   "cell_type": "code",
   "execution_count": null,
   "metadata": {},
   "outputs": [],
   "source": [
    "# accuracy for each band\n",
    "test_scored['correct_band'] = test_scored['actual_band'] == test_scored['predicted_band']\n",
    "test_scored.groupby('actual_band')['correct_band'].sum()/test_scored.groupby('actual_band')['correct_band'].count()"
   ]
  },
  {
   "cell_type": "code",
   "execution_count": null,
   "metadata": {},
   "outputs": [],
   "source": [
    "# manipulating data for heatmap\n",
    "for_heatmap = test_scored[['actual_band','predicted_band']]\n",
    "for_dummy = for_heatmap.pop('actual_band')\n",
    "for_heatmap = pd.concat([for_heatmap, pd.get_dummies(for_dummy)], axis=1)\n",
    "for_heatmap_summed = for_heatmap.groupby('predicted_band')['A','B','C','D','E','F','G'].sum()"
   ]
  },
  {
   "cell_type": "code",
   "execution_count": null,
   "metadata": {},
   "outputs": [],
   "source": [
    "def get_pct(x):\n",
    "    return (x/(x.sum()))*100"
   ]
  },
  {
   "cell_type": "code",
   "execution_count": null,
   "metadata": {},
   "outputs": [],
   "source": [
    "for_heatmap_summed = for_heatmap_summed.apply(get_pct,axis = 0)"
   ]
  },
  {
   "cell_type": "code",
   "execution_count": null,
   "metadata": {},
   "outputs": [],
   "source": [
    "heatmap_test = round(for_heatmap_summed,0)\n",
    "heatmap_test = heatmap_test.replace(0,np.nan)\n",
    "heatmap_test = heatmap_test.loc[['G','F','E','D','C','B','A'],:]\n",
    "\n",
    "f = plt.figure(figsize=(10,5))\n",
    "sns.heatmap(heatmap_test, cmap='RdYlGn',annot=True,cbar=False)\n",
    "plt.xlabel('Acutal Energy Efficiency Band')\n",
    "plt.ylabel('Predicted Energy Efficiency Band')\n",
    "plt.show()"
   ]
  }
 ],
 "metadata": {
  "kernelspec": {
   "display_name": "Python 3",
   "language": "python",
   "name": "python3"
  },
  "language_info": {
   "codemirror_mode": {
    "name": "ipython",
    "version": 3
   },
   "file_extension": ".py",
   "mimetype": "text/x-python",
   "name": "python",
   "nbconvert_exporter": "python",
   "pygments_lexer": "ipython3",
   "version": "3.9.2"
  }
 },
 "nbformat": 4,
 "nbformat_minor": 2
}
